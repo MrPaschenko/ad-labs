{
 "cells": [
  {
   "cell_type": "markdown",
   "id": "3c3eb2ff",
   "metadata": {},
   "source": [
    "### Створити програму, яка виконує наступні завдання, використовуючи файл відповідно до варіанту:"
   ]
  },
  {
   "cell_type": "markdown",
   "id": "9762a56b",
   "metadata": {},
   "source": [
    "### 1. Читає файл та змінює назви стовпців."
   ]
  },
  {
   "cell_type": "code",
   "execution_count": 1,
   "id": "d77e3fe2",
   "metadata": {},
   "outputs": [],
   "source": [
    "import pandas as pd"
   ]
  },
  {
   "cell_type": "code",
   "execution_count": 15,
   "id": "39da2fe2",
   "metadata": {},
   "outputs": [
    {
     "data": {
      "text/html": [
       "<div>\n",
       "<style scoped>\n",
       "    .dataframe tbody tr th:only-of-type {\n",
       "        vertical-align: middle;\n",
       "    }\n",
       "\n",
       "    .dataframe tbody tr th {\n",
       "        vertical-align: top;\n",
       "    }\n",
       "\n",
       "    .dataframe thead th {\n",
       "        text-align: right;\n",
       "    }\n",
       "</style>\n",
       "<table border=\"1\" class=\"dataframe\">\n",
       "  <thead>\n",
       "    <tr style=\"text-align: right;\">\n",
       "      <th></th>\n",
       "      <th>meantemp</th>\n",
       "      <th>humidity</th>\n",
       "      <th>wind_speed</th>\n",
       "      <th>meanpressure</th>\n",
       "    </tr>\n",
       "    <tr>\n",
       "      <th>date</th>\n",
       "      <th></th>\n",
       "      <th></th>\n",
       "      <th></th>\n",
       "      <th></th>\n",
       "    </tr>\n",
       "  </thead>\n",
       "  <tbody>\n",
       "    <tr>\n",
       "      <th>2013-01-01</th>\n",
       "      <td>10.0</td>\n",
       "      <td>84.500000</td>\n",
       "      <td>0.0</td>\n",
       "      <td>1015.666667</td>\n",
       "    </tr>\n",
       "    <tr>\n",
       "      <th>2013-01-02</th>\n",
       "      <td>7.4</td>\n",
       "      <td>92.000000</td>\n",
       "      <td>2.98</td>\n",
       "      <td>1017.800000</td>\n",
       "    </tr>\n",
       "    <tr>\n",
       "      <th>2013-01-03</th>\n",
       "      <td>7.166666666666667</td>\n",
       "      <td>87.000000</td>\n",
       "      <td>4.633333333333334</td>\n",
       "      <td>1018.666667</td>\n",
       "    </tr>\n",
       "    <tr>\n",
       "      <th>2013-01-04</th>\n",
       "      <td>8.666666666666666</td>\n",
       "      <td>71.333333</td>\n",
       "      <td>1.2333333333333334</td>\n",
       "      <td>1017.166667</td>\n",
       "    </tr>\n",
       "    <tr>\n",
       "      <th>2013-01-05</th>\n",
       "      <td>6.0</td>\n",
       "      <td>86.833333</td>\n",
       "      <td>3.6999999999999997</td>\n",
       "      <td>1016.500000</td>\n",
       "    </tr>\n",
       "    <tr>\n",
       "      <th>...</th>\n",
       "      <td>...</td>\n",
       "      <td>...</td>\n",
       "      <td>...</td>\n",
       "      <td>...</td>\n",
       "    </tr>\n",
       "    <tr>\n",
       "      <th>2016-12-28</th>\n",
       "      <td>17.217391304347824</td>\n",
       "      <td>68.043478</td>\n",
       "      <td>3.547826086956522</td>\n",
       "      <td>1015.565217</td>\n",
       "    </tr>\n",
       "    <tr>\n",
       "      <th>2016-12-29</th>\n",
       "      <td>15.238095238095237</td>\n",
       "      <td>87.857143</td>\n",
       "      <td>6.0</td>\n",
       "      <td>1016.904762</td>\n",
       "    </tr>\n",
       "    <tr>\n",
       "      <th>2016-12-30</th>\n",
       "      <td>14.095238095238095</td>\n",
       "      <td>89.666667</td>\n",
       "      <td>6.266666666666667</td>\n",
       "      <td>1017.904762</td>\n",
       "    </tr>\n",
       "    <tr>\n",
       "      <th>2016-12-31</th>\n",
       "      <td>15.052631578947368</td>\n",
       "      <td>87.000000</td>\n",
       "      <td>7.325</td>\n",
       "      <td>1016.100000</td>\n",
       "    </tr>\n",
       "    <tr>\n",
       "      <th>2017-01-01</th>\n",
       "      <td>10.0</td>\n",
       "      <td>100.000000</td>\n",
       "      <td>0.0</td>\n",
       "      <td>1016.000000</td>\n",
       "    </tr>\n",
       "  </tbody>\n",
       "</table>\n",
       "<p>1472 rows × 4 columns</p>\n",
       "</div>"
      ],
      "text/plain": [
       "                      meantemp    humidity          wind_speed  meanpressure\n",
       "date                                                                        \n",
       "2013-01-01                10.0   84.500000                 0.0   1015.666667\n",
       "2013-01-02                 7.4   92.000000                2.98   1017.800000\n",
       "2013-01-03   7.166666666666667   87.000000   4.633333333333334   1018.666667\n",
       "2013-01-04   8.666666666666666   71.333333  1.2333333333333334   1017.166667\n",
       "2013-01-05                 6.0   86.833333  3.6999999999999997   1016.500000\n",
       "...                        ...         ...                 ...           ...\n",
       "2016-12-28  17.217391304347824   68.043478   3.547826086956522   1015.565217\n",
       "2016-12-29  15.238095238095237   87.857143                 6.0   1016.904762\n",
       "2016-12-30  14.095238095238095   89.666667   6.266666666666667   1017.904762\n",
       "2016-12-31  15.052631578947368   87.000000               7.325   1016.100000\n",
       "2017-01-01                10.0  100.000000                 0.0   1016.000000\n",
       "\n",
       "[1472 rows x 4 columns]"
      ]
     },
     "execution_count": 15,
     "metadata": {},
     "output_type": "execute_result"
    }
   ],
   "source": [
    "data = pd.read_excel('Version 1.xlsx', index_col = 'date', parse_dates = True, usecols = ['date', 'meantemp', 'humidity', 'wind_speed', 'meanpressure'])\n",
    "data"
   ]
  },
  {
   "cell_type": "code",
   "execution_count": 16,
   "id": "fdd01832",
   "metadata": {},
   "outputs": [
    {
     "data": {
      "text/plain": [
       "meantemp         object\n",
       "humidity        float64\n",
       "wind_speed       object\n",
       "meanpressure    float64\n",
       "dtype: object"
      ]
     },
     "execution_count": 16,
     "metadata": {},
     "output_type": "execute_result"
    }
   ],
   "source": [
    "data.dtypes"
   ]
  },
  {
   "cell_type": "code",
   "execution_count": 24,
   "id": "1c07385d",
   "metadata": {},
   "outputs": [
    {
     "data": {
      "text/html": [
       "<div>\n",
       "<style scoped>\n",
       "    .dataframe tbody tr th:only-of-type {\n",
       "        vertical-align: middle;\n",
       "    }\n",
       "\n",
       "    .dataframe tbody tr th {\n",
       "        vertical-align: top;\n",
       "    }\n",
       "\n",
       "    .dataframe thead th {\n",
       "        text-align: right;\n",
       "    }\n",
       "</style>\n",
       "<table border=\"1\" class=\"dataframe\">\n",
       "  <thead>\n",
       "    <tr style=\"text-align: right;\">\n",
       "      <th></th>\n",
       "      <th>humidity</th>\n",
       "      <th>meanpressure</th>\n",
       "    </tr>\n",
       "  </thead>\n",
       "  <tbody>\n",
       "    <tr>\n",
       "      <th>count</th>\n",
       "      <td>1470.000000</td>\n",
       "      <td>1469.000000</td>\n",
       "    </tr>\n",
       "    <tr>\n",
       "      <th>mean</th>\n",
       "      <td>60.816644</td>\n",
       "      <td>1011.042647</td>\n",
       "    </tr>\n",
       "    <tr>\n",
       "      <th>std</th>\n",
       "      <td>16.912870</td>\n",
       "      <td>179.803098</td>\n",
       "    </tr>\n",
       "    <tr>\n",
       "      <th>min</th>\n",
       "      <td>-31.571429</td>\n",
       "      <td>-3.041667</td>\n",
       "    </tr>\n",
       "    <tr>\n",
       "      <th>25%</th>\n",
       "      <td>50.500000</td>\n",
       "      <td>1001.500000</td>\n",
       "    </tr>\n",
       "    <tr>\n",
       "      <th>50%</th>\n",
       "      <td>62.699248</td>\n",
       "      <td>1008.500000</td>\n",
       "    </tr>\n",
       "    <tr>\n",
       "      <th>75%</th>\n",
       "      <td>72.276786</td>\n",
       "      <td>1014.875000</td>\n",
       "    </tr>\n",
       "    <tr>\n",
       "      <th>max</th>\n",
       "      <td>100.000000</td>\n",
       "      <td>7679.333333</td>\n",
       "    </tr>\n",
       "  </tbody>\n",
       "</table>\n",
       "</div>"
      ],
      "text/plain": [
       "          humidity  meanpressure\n",
       "count  1470.000000   1469.000000\n",
       "mean     60.816644   1011.042647\n",
       "std      16.912870    179.803098\n",
       "min     -31.571429     -3.041667\n",
       "25%      50.500000   1001.500000\n",
       "50%      62.699248   1008.500000\n",
       "75%      72.276786   1014.875000\n",
       "max     100.000000   7679.333333"
      ]
     },
     "execution_count": 24,
     "metadata": {},
     "output_type": "execute_result"
    }
   ],
   "source": [
    "data.describe()"
   ]
  },
  {
   "cell_type": "code",
   "execution_count": 25,
   "id": "e22aec8d",
   "metadata": {},
   "outputs": [
    {
     "name": "stdout",
     "output_type": "stream",
     "text": [
      "<class 'pandas.core.frame.DataFrame'>\n",
      "Index: 1472 entries, 2013-01-01 to 2017-01-01\n",
      "Data columns (total 4 columns):\n",
      " #   Column        Non-Null Count  Dtype  \n",
      "---  ------        --------------  -----  \n",
      " 0   meantemp      1469 non-null   object \n",
      " 1   humidity      1470 non-null   float64\n",
      " 2   wind_speed    1465 non-null   object \n",
      " 3   meanpressure  1469 non-null   float64\n",
      "dtypes: float64(2), object(2)\n",
      "memory usage: 57.5+ KB\n"
     ]
    }
   ],
   "source": [
    "data.info()"
   ]
  },
  {
   "cell_type": "code",
   "execution_count": null,
   "id": "50fdcc96",
   "metadata": {},
   "outputs": [],
   "source": []
  },
  {
   "cell_type": "code",
   "execution_count": null,
   "id": "79634617",
   "metadata": {},
   "outputs": [],
   "source": []
  },
  {
   "cell_type": "code",
   "execution_count": null,
   "id": "beb79186",
   "metadata": {},
   "outputs": [],
   "source": []
  },
  {
   "cell_type": "code",
   "execution_count": null,
   "id": "3095abec",
   "metadata": {},
   "outputs": [],
   "source": []
  },
  {
   "cell_type": "code",
   "execution_count": null,
   "id": "af030a3f",
   "metadata": {},
   "outputs": [],
   "source": []
  },
  {
   "cell_type": "markdown",
   "id": "13ac9de8",
   "metadata": {},
   "source": [
    "### 2. Знаходить проблеми з даними та виконує попередню обробку даних для усунення цих проблем."
   ]
  }
 ],
 "metadata": {
  "kernelspec": {
   "display_name": "Python 3 (ipykernel)",
   "language": "python",
   "name": "python3"
  },
  "language_info": {
   "codemirror_mode": {
    "name": "ipython",
    "version": 3
   },
   "file_extension": ".py",
   "mimetype": "text/x-python",
   "name": "python",
   "nbconvert_exporter": "python",
   "pygments_lexer": "ipython3",
   "version": "3.9.12"
  }
 },
 "nbformat": 4,
 "nbformat_minor": 5
}

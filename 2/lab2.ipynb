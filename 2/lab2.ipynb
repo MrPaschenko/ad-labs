{
 "cells": [
  {
   "cell_type": "code",
   "execution_count": null,
   "id": "61fd06f5",
   "metadata": {},
   "outputs": [],
   "source": [
    "import numpy as np\n",
    "import pandas as pd\n",
    "import scipy.stats as stats"
   ]
  },
  {
   "cell_type": "code",
   "execution_count": null,
   "id": "6351a575",
   "metadata": {
    "scrolled": true
   },
   "outputs": [],
   "source": [
    "data = pd.read_csv('Birthweight.csv')\n",
    "data"
   ]
  },
  {
   "cell_type": "markdown",
   "id": "cf477029",
   "metadata": {},
   "source": [
    "### 1. Знайти середній вік матерів і батьків і порівняти ці середні значення."
   ]
  },
  {
   "cell_type": "code",
   "execution_count": null,
   "id": "02c54443",
   "metadata": {
    "scrolled": true
   },
   "outputs": [],
   "source": [
    "mother_ages = np.array(data['mage'])\n",
    "mother_ages"
   ]
  },
  {
   "cell_type": "code",
   "execution_count": null,
   "id": "01b885b4",
   "metadata": {},
   "outputs": [],
   "source": [
    "father_ages = np.array(data['fage'])\n",
    "father_ages"
   ]
  },
  {
   "cell_type": "code",
   "execution_count": null,
   "id": "9952cd29",
   "metadata": {},
   "outputs": [],
   "source": [
    "mothers_avarage_age = np.mean(mother_ages)\n",
    "mothers_avarage_age"
   ]
  },
  {
   "cell_type": "code",
   "execution_count": null,
   "id": "d146a094",
   "metadata": {},
   "outputs": [],
   "source": [
    "fathers_avarage_age = np.mean(fother_ages)\n",
    "fathers_avarage_age"
   ]
  },
  {
   "cell_type": "code",
   "execution_count": null,
   "id": "65b1fe36",
   "metadata": {},
   "outputs": [],
   "source": [
    "mothers_avarage_age < fathers_avarage_age"
   ]
  },
  {
   "cell_type": "markdown",
   "id": "6c9392c2",
   "metadata": {},
   "source": [
    "### 2. Перевірити чи нормально розподілена вага дітей."
   ]
  },
  {
   "cell_type": "code",
   "execution_count": null,
   "id": "d1e7338c",
   "metadata": {
    "scrolled": true
   },
   "outputs": [],
   "source": [
    "kid_weights = np.array(data['Birthweight'])\n",
    "kid_weights"
   ]
  },
  {
   "cell_type": "code",
   "execution_count": null,
   "id": "d9898a37",
   "metadata": {},
   "outputs": [],
   "source": [
    "stat, p = stats.normaltest(kid_weights)\n",
    "print('Stats = %.3f, p = %.3f' % (stat, p))"
   ]
  },
  {
   "cell_type": "code",
   "execution_count": null,
   "id": "5ff96f48",
   "metadata": {},
   "outputs": [],
   "source": [
    "\"Вага нормально розподілена\" if p > .05 else \"Вага нормально не розподілена\""
   ]
  },
  {
   "cell_type": "markdown",
   "id": "253fb7e8",
   "metadata": {},
   "source": [
    "### 3. Перевірити за допомогою статистичних гіпотез чи у матерів, що палять, легші діти."
   ]
  },
  {
   "cell_type": "markdown",
   "id": "839ca43d",
   "metadata": {},
   "source": [
    "- **H0 (основна гіпотеза)**: У матерів, що палять, діти мають однакову вагу, що й у матерів, що не палять\n",
    "- **H1 (альтернативна гіпотеза)**: У матерів, що палять, діти легші, ніж у матерів, що не палять"
   ]
  },
  {
   "cell_type": "code",
   "execution_count": null,
   "id": "4cf24dec",
   "metadata": {},
   "outputs": [],
   "source": [
    "kids_smoke = kid_weights[20:40]\n",
    "kids_smoke"
   ]
  },
  {
   "cell_type": "code",
   "execution_count": null,
   "id": "2df9d430",
   "metadata": {},
   "outputs": [],
   "source": [
    "kids_no_smoke = kid_weights[0:20]\n",
    "kids_no_smoke"
   ]
  },
  {
   "cell_type": "code",
   "execution_count": null,
   "id": "10c87a7b",
   "metadata": {},
   "outputs": [],
   "source": [
    "stat, p = stats.ttest_ind(kids_smoke, kids_no_smoke, alternative = \"less\")\n",
    "print('Stats = %.3f, p = %.3f' % (stat, p))"
   ]
  },
  {
   "cell_type": "code",
   "execution_count": null,
   "id": "4d0fcc6c",
   "metadata": {
    "scrolled": true
   },
   "outputs": [],
   "source": [
    "\"H0 (основна гіпотеза)\" if p > .05 else \"H1 (альтернативна гіпотеза)\""
   ]
  },
  {
   "cell_type": "markdown",
   "id": "59c74e6e",
   "metadata": {},
   "source": [
    "### 4. Чи є зв’язок між зростом матері та дитини?"
   ]
  },
  {
   "cell_type": "markdown",
   "id": "2e72a059",
   "metadata": {},
   "source": [
    "- **H0 (основна гіпотеза)**: Зрісти матері та дитини не корельовані\n",
    "- **H1 (альтернативна гіпотеза)**: Величини корельовані"
   ]
  },
  {
   "cell_type": "code",
   "execution_count": null,
   "id": "141ed53b",
   "metadata": {},
   "outputs": [],
   "source": [
    "mother_heights = np.array(data['mheight'])\n",
    "mother_heights"
   ]
  },
  {
   "cell_type": "code",
   "execution_count": null,
   "id": "3e59aa00",
   "metadata": {
    "scrolled": true
   },
   "outputs": [],
   "source": [
    "kids_heights = np.array(data['Length'])\n",
    "kids_heights"
   ]
  },
  {
   "cell_type": "code",
   "execution_count": null,
   "id": "722f57ad",
   "metadata": {},
   "outputs": [],
   "source": [
    "stat, p = stats.pearsonr(mother_heights, kids_heights)\n",
    "print('Stats = %.3f, p = %.3f' % (stat, p))"
   ]
  },
  {
   "cell_type": "code",
   "execution_count": null,
   "id": "ba38491d",
   "metadata": {},
   "outputs": [],
   "source": [
    "\"H0 (основна гіпотеза)\" if p > .05 else \"H1 (альтернативна гіпотеза)\""
   ]
  }
 ],
 "metadata": {
  "kernelspec": {
   "display_name": "Python 3 (ipykernel)",
   "language": "python",
   "name": "python3"
  },
  "language_info": {
   "codemirror_mode": {
    "name": "ipython",
    "version": 3
   },
   "file_extension": ".py",
   "mimetype": "text/x-python",
   "name": "python",
   "nbconvert_exporter": "python",
   "pygments_lexer": "ipython3",
   "version": "3.9.12"
  }
 },
 "nbformat": 4,
 "nbformat_minor": 5
}
